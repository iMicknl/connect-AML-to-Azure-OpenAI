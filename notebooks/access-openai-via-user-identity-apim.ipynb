{
  "cells": [
    {
      "attachments": {},
      "cell_type": "markdown",
      "metadata": {
        "nteract": {
          "transient": {
            "deleting": false
          }
        }
      },
      "source": [
        "## Azure OpenAI Playground\n",
        "\n",
        "This example notebook will call API Management (proxy to Azure OpenAI) via the user identity and via an API Management key. When using Azure Machine Learning, the user credentials can be gathered from the compute instance, to authenticate against other Azure resources.\n",
        "\n",
        "Make sure to assign Cognitive Services OpenAI User (only inference) or Cognitive Services OpenAI Contributor to the user, to grant access to Azure OpenAI."
      ]
    },
    {
      "cell_type": "code",
      "execution_count": null,
      "metadata": {
        "gather": {
          "logged": 1687878723654
        },
        "jupyter": {
          "outputs_hidden": true
        }
      },
      "outputs": [],
      "source": [
        "%pip install --upgrade azure-ai-ml azure-identity openai"
      ]
    },
    {
      "cell_type": "code",
      "execution_count": null,
      "metadata": {
        "jupyter": {
          "outputs_hidden": false,
          "source_hidden": false
        },
        "nteract": {
          "transient": {
            "deleting": false
          }
        }
      },
      "outputs": [],
      "source": [
        "API_BASE = \"https://[apim-resource-name].azure-api.net/\"\n",
        "API_VERSION = \"2023-05-15\" # General Available\n",
        "APIM_KEY = \"\""
      ]
    },
    {
      "cell_type": "code",
      "execution_count": null,
      "metadata": {
        "gather": {
          "logged": 1687882091678
        },
        "jupyter": {
          "outputs_hidden": false,
          "source_hidden": false
        },
        "nteract": {
          "transient": {
            "deleting": false
          }
        }
      },
      "outputs": [],
      "source": [
        "from azure.identity import DefaultAzureCredential\n",
        "import datetime\n",
        "\n",
        "credential = DefaultAzureCredential()\n",
        "token = None\n",
        "\n",
        "def create_and_refresh_token():\n",
        "    \"\"\"Create and refresh AAD token via Managed Identity\"\"\"\n",
        "    global token\n",
        "    # Check if Azure token is still valid\n",
        "    if not token or datetime.datetime.fromtimestamp(token.expires_on) < datetime.datetime.now():\n",
        "        token = credential.get_token(\"https://cognitiveservices.azure.com\")"
      ]
    },
    {
      "attachments": {},
      "cell_type": "markdown",
      "metadata": {},
      "source": [
        "### Parameters"
      ]
    },
    {
      "cell_type": "code",
      "execution_count": null,
      "metadata": {
        "gather": {
          "logged": 1687882092924
        },
        "jupyter": {
          "outputs_hidden": false,
          "source_hidden": false
        },
        "nteract": {
          "transient": {
            "deleting": false
          }
        }
      },
      "outputs": [],
      "source": [
        "model = \"gpt-35-turbo\"\n",
        "temperature = 0.7\n",
        "\n",
        "max_tokens = 800\n",
        "top_p = 0.95"
      ]
    },
    {
      "attachments": {},
      "cell_type": "markdown",
      "metadata": {},
      "source": [
        "### System Message\n",
        "[System message framework and template recommendations for Large Language Models (LLMs)](https://learn.microsoft.com/en-us/azure/cognitive-services/openai/concepts/system-message)"
      ]
    },
    {
      "cell_type": "code",
      "execution_count": null,
      "metadata": {},
      "outputs": [],
      "source": [
        "SYSTEM_MESSAGE = \"You are an AI assistant that helps people find information.\""
      ]
    },
    {
      "cell_type": "code",
      "execution_count": null,
      "metadata": {},
      "outputs": [],
      "source": [
        "messages = [\n",
        "    { \"role\":\"system\", \"content\": SYSTEM_MESSAGE },\n",
        "    { \"role\":\"user\", \"content\": \"Hello, can you help me?\" },\n",
        "]"
      ]
    },
    {
      "attachments": {},
      "cell_type": "markdown",
      "metadata": {},
      "source": [
        "### Build Azure OpenAI request via SDK\n",
        "[Quickstart: Get started using ChatGPT and GPT-4 with Azure OpenAI Service](https://learn.microsoft.com/en-us/azure/cognitive-services/openai/chatgpt-quickstart?tabs=command-line&pivots=programming-language-python)"
      ]
    },
    {
      "cell_type": "code",
      "execution_count": null,
      "metadata": {
        "gather": {
          "logged": 1687882094955
        },
        "jupyter": {
          "outputs_hidden": false,
          "source_hidden": false
        },
        "nteract": {
          "transient": {
            "deleting": false
          }
        }
      },
      "outputs": [],
      "source": [
        "import os\n",
        "import openai\n",
        "\n",
        "openai.api_type = \"azure_ad\"\n",
        "openai.api_base = API_BASE\n",
        "openai.api_version = API_VERSION\n",
        "\n",
        "create_and_refresh_token()\n",
        "openai.api_key = token.token\n",
        "\n",
        "HEADERS = { \"Ocp-Apim-Subscription-Key\": APIM_KEY }\n",
        "\n",
        "response = openai.ChatCompletion.create(\n",
        "  headers=HEADERS,\n",
        "  engine=model,\n",
        "  messages=messages,\n",
        "  temperature=temperature,\n",
        "  max_tokens=max_tokens,\n",
        "  top_p=top_p,\n",
        "  frequency_penalty=0,\n",
        "  presence_penalty=0,\n",
        "  stop=None\n",
        ")"
      ]
    },
    {
      "cell_type": "code",
      "execution_count": null,
      "metadata": {
        "gather": {
          "logged": 1687882102569
        },
        "jupyter": {
          "outputs_hidden": false,
          "source_hidden": false
        },
        "nteract": {
          "transient": {
            "deleting": false
          }
        }
      },
      "outputs": [],
      "source": [
        "response.choices[0].message.content"
      ]
    },
    {
      "cell_type": "code",
      "execution_count": null,
      "metadata": {
        "jupyter": {
          "outputs_hidden": false,
          "source_hidden": false
        },
        "nteract": {
          "transient": {
            "deleting": false
          }
        }
      },
      "outputs": [],
      "source": []
    }
  ],
  "metadata": {
    "kernel_info": {
      "name": "python310-sdkv2"
    },
    "kernelspec": {
      "display_name": "Python 3.10 - SDK v2",
      "language": "python",
      "name": "python310-sdkv2"
    },
    "language_info": {
      "codemirror_mode": {
        "name": "ipython",
        "version": 3
      },
      "file_extension": ".py",
      "mimetype": "text/x-python",
      "name": "python",
      "nbconvert_exporter": "python",
      "pygments_lexer": "ipython3",
      "version": "3.10.10"
    },
    "microsoft": {
      "host": {
        "AzureML": {
          "notebookHasBeenCompleted": true
        }
      },
      "ms_spell_check": {
        "ms_spell_check_language": "en"
      }
    },
    "nteract": {
      "version": "nteract-front-end@1.0.0"
    }
  },
  "nbformat": 4,
  "nbformat_minor": 2
}
